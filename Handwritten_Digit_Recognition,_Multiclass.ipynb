{
  "cells": [
    {
      "cell_type": "markdown",
      "metadata": {
        "id": "Av3S0_F83PZL"
      },
      "source": [
        "Neural Networks for Handwritten Digit Recognition"
      ]
    },
    {
      "cell_type": "markdown",
      "metadata": {
        "id": "IncpUu-t29f_"
      },
      "source": [
        "### Importing packages"
      ]
    },
    {
      "cell_type": "code",
      "execution_count": 14,
      "metadata": {
        "id": "cctdajiy238_"
      },
      "outputs": [],
      "source": [
        "from keras.layers import Dense, Conv2D, Flatten, MaxPool2D\n",
        "from keras.datasets import mnist\n",
        "from keras.utils import to_categorical\n",
        "import numpy as np\n",
        "import matplotlib.pyplot as plt\n",
        "from tensorflow.keras.models import Sequential\n",
        "from tensorflow.keras.layers import Dense\n",
        "from tensorflow.keras.activations import linear, relu, sigmoid\n",
        "import random\n",
        "import tensorflow as tf"
      ]
    },
    {
      "cell_type": "markdown",
      "source": [
        "### Loading the dataset and splitting it into training and testing subsets."
      ],
      "metadata": {
        "id": "erw0zGBXgnUg"
      }
    },
    {
      "cell_type": "code",
      "execution_count": 15,
      "metadata": {
        "id": "IE6-nNmW4HG3"
      },
      "outputs": [],
      "source": [
        "(X_train, y_train), (X_test, y_test) = mnist.load_data()"
      ]
    },
    {
      "cell_type": "markdown",
      "metadata": {
        "id": "q84w9Cv59xOS"
      },
      "source": [
        "### Viewing the variables"
      ]
    },
    {
      "cell_type": "code",
      "execution_count": 16,
      "metadata": {
        "colab": {
          "base_uri": "https://localhost:8080/"
        },
        "id": "IbQjTja391CE",
        "outputId": "14e9ab99-956e-4668-93f9-0af1b8d060d4"
      },
      "outputs": [
        {
          "output_type": "stream",
          "name": "stdout",
          "text": [
            "The first five elements of X_train are:  [[[0 0 0 ... 0 0 0]\n",
            "  [0 0 0 ... 0 0 0]\n",
            "  [0 0 0 ... 0 0 0]\n",
            "  ...\n",
            "  [0 0 0 ... 0 0 0]\n",
            "  [0 0 0 ... 0 0 0]\n",
            "  [0 0 0 ... 0 0 0]]\n",
            "\n",
            " [[0 0 0 ... 0 0 0]\n",
            "  [0 0 0 ... 0 0 0]\n",
            "  [0 0 0 ... 0 0 0]\n",
            "  ...\n",
            "  [0 0 0 ... 0 0 0]\n",
            "  [0 0 0 ... 0 0 0]\n",
            "  [0 0 0 ... 0 0 0]]\n",
            "\n",
            " [[0 0 0 ... 0 0 0]\n",
            "  [0 0 0 ... 0 0 0]\n",
            "  [0 0 0 ... 0 0 0]\n",
            "  ...\n",
            "  [0 0 0 ... 0 0 0]\n",
            "  [0 0 0 ... 0 0 0]\n",
            "  [0 0 0 ... 0 0 0]]\n",
            "\n",
            " [[0 0 0 ... 0 0 0]\n",
            "  [0 0 0 ... 0 0 0]\n",
            "  [0 0 0 ... 0 0 0]\n",
            "  ...\n",
            "  [0 0 0 ... 0 0 0]\n",
            "  [0 0 0 ... 0 0 0]\n",
            "  [0 0 0 ... 0 0 0]]\n",
            "\n",
            " [[0 0 0 ... 0 0 0]\n",
            "  [0 0 0 ... 0 0 0]\n",
            "  [0 0 0 ... 0 0 0]\n",
            "  ...\n",
            "  [0 0 0 ... 0 0 0]\n",
            "  [0 0 0 ... 0 0 0]\n",
            "  [0 0 0 ... 0 0 0]]]\n"
          ]
        }
      ],
      "source": [
        "print ('The first five elements of X_train are: ', X_train[:5])"
      ]
    },
    {
      "cell_type": "code",
      "execution_count": 17,
      "metadata": {
        "colab": {
          "base_uri": "https://localhost:8080/"
        },
        "id": "mFjpaWE496Mt",
        "outputId": "3fe4c633-5953-4d32-8d27-4b4ab154c3a0"
      },
      "outputs": [
        {
          "output_type": "stream",
          "name": "stdout",
          "text": [
            "The first five elements of y_train are:  [5 0 4 1 9]\n"
          ]
        }
      ],
      "source": [
        "print ('The first five elements of y_train are: ', y_train[:5])"
      ]
    },
    {
      "cell_type": "markdown",
      "metadata": {
        "id": "Wg8zjiyW_pOw"
      },
      "source": [
        "### Check the dimensions of your variables"
      ]
    },
    {
      "cell_type": "code",
      "execution_count": 18,
      "metadata": {
        "colab": {
          "base_uri": "https://localhost:8080/"
        },
        "id": "OwOAoGzL-oo0",
        "outputId": "9db44244-3715-4d9f-8507-db041793b25a"
      },
      "outputs": [
        {
          "output_type": "stream",
          "name": "stdout",
          "text": [
            "The shape of X_train is: (60000, 28, 28)\n",
            "The shape of y_train is: (60000,)\n",
            "The shape of X_test is: (10000, 28, 28)\n",
            "The shape of y_test is: (10000,)\n"
          ]
        }
      ],
      "source": [
        "print ('The shape of X_train is: ' + str(X_train.shape))\n",
        "print ('The shape of y_train is: ' + str(y_train.shape))\n",
        "print ('The shape of X_test is: ' + str(X_test.shape))\n",
        "print ('The shape of y_test is: ' + str(y_test.shape))"
      ]
    },
    {
      "cell_type": "markdown",
      "source": [
        "### Visualising image"
      ],
      "metadata": {
        "id": "N9dOh4WMil1D"
      }
    },
    {
      "cell_type": "code",
      "source": [
        "i=random.randint(0, X_train.shape[0])\n",
        "plt.imshow(X_train[i])\n",
        "print(y_train[i])"
      ],
      "metadata": {
        "colab": {
          "base_uri": "https://localhost:8080/",
          "height": 448
        },
        "id": "7wRE6hRKilFR",
        "outputId": "0813bff3-62b6-4843-b5ee-1e11564a5a3b"
      },
      "execution_count": 19,
      "outputs": [
        {
          "output_type": "stream",
          "name": "stdout",
          "text": [
            "7\n"
          ]
        },
        {
          "output_type": "display_data",
          "data": {
            "text/plain": [
              "<Figure size 640x480 with 1 Axes>"
            ],
            "image/png": "[encoded data removed]"
          },
          "metadata": {}
        }
      ]
    },
    {
      "cell_type": "markdown",
      "source": [
        "### Reshaping the data to fit the model\n",
        " Training dataset (X_train) will now have 60000 samples, each of which is a 28x28 grid (representing an image), and the 1 indicates that each image has only one channel (e.g., grayscale)."
      ],
      "metadata": {
        "id": "bZmIAKHhjZrT"
      }
    },
    {
      "cell_type": "code",
      "source": [
        "X_train = X_train.reshape(60000, 28, 28, 1)\n",
        "X_test = X_test.reshape(10000, 28, 28, 1)\n",
        "\n",
        "print(X_train.shape)"
      ],
      "metadata": {
        "id": "SL-Cs8s8jgCG",
        "colab": {
          "base_uri": "https://localhost:8080/"
        },
        "outputId": "172dacc7-3fb3-421c-c65d-e8fb9662bbcd"
      },
      "execution_count": 44,
      "outputs": [
        {
          "output_type": "stream",
          "name": "stdout",
          "text": [
            "(60000, 28, 28, 1)\n"
          ]
        }
      ]
    },
    {
      "cell_type": "markdown",
      "source": [
        "### One-Hot Encoding:\n"
      ],
      "metadata": {
        "id": "aWcSFknZSei4"
      }
    },
    {
      "cell_type": "code",
      "source": [
        "y_train_one_hot = to_categorical(y_train)\n",
        "y_test_one_hot = to_categorical(y_test)\n",
        "\n",
        "# Print the new label\n",
        "print(y_train_one_hot[0])\n",
        "print(y_train[0])"
      ],
      "metadata": {
        "colab": {
          "base_uri": "https://localhost:8080/"
        },
        "id": "N8od41jCkR1T",
        "outputId": "9c49b24f-68a8-40d2-fe95-7bfb5706c687"
      },
      "execution_count": 21,
      "outputs": [
        {
          "output_type": "stream",
          "name": "stdout",
          "text": [
            "[0. 0. 0. 0. 0. 1. 0. 0. 0. 0.]\n",
            "5\n"
          ]
        }
      ]
    },
    {
      "cell_type": "markdown",
      "source": [
        "### Build the model"
      ],
      "metadata": {
        "id": "wL3IfeCgSjmb"
      }
    },
    {
      "cell_type": "code",
      "source": [
        "model = Sequential()"
      ],
      "metadata": {
        "id": "4nfumbqDkmvk"
      },
      "execution_count": 50,
      "outputs": []
    },
    {
      "cell_type": "markdown",
      "source": [
        "### Adding layers"
      ],
      "metadata": {
        "id": "dXCC_WzZSqae"
      }
    },
    {
      "cell_type": "code",
      "source": [
        "model.add(Conv2D(64, kernel_size=3, activation = 'relu', input_shape=(28,28,1)))\n",
        "model.add(Conv2D(32, kernel_size=3, activation='relu'))\n",
        "model.add(MaxPool2D(pool_size=(2, 2), strides=None, padding='valid', data_format=None))\n",
        "model.add(Flatten())\n",
        "model.add(Dense(10,activation='softmax'))"
      ],
      "metadata": {
        "id": "JHsBWe77SpcZ"
      },
      "execution_count": null,
      "outputs": []
    },
    {
      "cell_type": "code",
      "source": [
        "model.compile(optimizer='adam', loss='categorical_crossentropy', metrics=['accuracy'])"
      ],
      "metadata": {
        "id": "y5_pVwsVkp-7"
      },
      "execution_count": 51,
      "outputs": []
    },
    {
      "cell_type": "markdown",
      "source": [
        "### Training the model"
      ],
      "metadata": {
        "id": "VT2g0CNPWolR"
      }
    },
    {
      "cell_type": "code",
      "source": [
        "hist = model.fit(X_train,y_train_one_hot, validation_data=(X_test,y_test_one_hot), epochs=6)"
      ],
      "metadata": {
        "colab": {
          "base_uri": "https://localhost:8080/"
        },
        "id": "VOL4PJkVktMZ",
        "outputId": "e11fa925-d42b-4f7c-b57a-4c0575788027"
      },
      "execution_count": 52,
      "outputs": [
        {
          "metadata": {
            "tags": null
          },
          "name": "stdout",
          "output_type": "stream",
          "text": [
            "Epoch 1/6\n",
            "1875/1875 [==============================] - 187s 99ms/step - loss: 0.2155 - accuracy: 0.9520 - val_loss: 0.0703 - val_accuracy: 0.9762\n",
            "Epoch 2/6\n",
            "1875/1875 [==============================] - 162s 87ms/step - loss: 0.0699 - accuracy: 0.9791 - val_loss: 0.0764 - val_accuracy: 0.9774\n",
            "Epoch 3/6\n",
            "1875/1875 [==============================] - 158s 84ms/step - loss: 0.0529 - accuracy: 0.9834 - val_loss: 0.0793 - val_accuracy: 0.9770\n",
            "Epoch 4/6\n",
            "1875/1875 [==============================] - 163s 87ms/step - loss: 0.0423 - accuracy: 0.9868 - val_loss: 0.0631 - val_accuracy: 0.9812\n",
            "Epoch 5/6\n",
            "1875/1875 [==============================] - 163s 87ms/step - loss: 0.0347 - accuracy: 0.9892 - val_loss: 0.0866 - val_accuracy: 0.9802\n",
            "Epoch 6/6\n",
            "1875/1875 [==============================] - 163s 87ms/step - loss: 0.0282 - accuracy: 0.9911 - val_loss: 0.0790 - val_accuracy: 0.9811\n"
          ]
        }
      ]
    },
    {
      "cell_type": "markdown",
      "source": [
        "### Final Report"
      ],
      "metadata": {
        "id": "ltBbHShbWry7"
      }
    },
    {
      "cell_type": "markdown",
      "source": [
        "Our model, with an accuracy of 98.11%, showcases the power of machine learning and the potential for real-world applications. It's important to note that further optimization and fine-tuning could potentially improve accuracy even more.\n",
        "\n",
        "The provided code implements a neural network for image classification on the MNIST dataset.\n",
        "\n",
        "This implementation serves as a fundamental example of building and training a neural network for image classification tasks, and it can be further optimized for improved accuracy and generalization."
      ],
      "metadata": {
        "id": "vXNXbDo0W0q_"
      }
    }
  ],
  "metadata": {
    "colab": {
      "provenance": [],
      "authorship_tag": "ABX9TyNoxRQ1zC6NBoOCDgck+RyY"
    },
    "kernelspec": {
      "display_name": "Python 3",
      "name": "python3"
    },
    "language_info": {
      "name": "python"
    }
  },
  "nbformat": 4,
  "nbformat_minor": 0
}